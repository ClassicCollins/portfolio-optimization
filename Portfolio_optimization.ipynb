{
  "cells": [
    {
      "cell_type": "markdown",
      "source": [
        "Portfolio Optimization and Asset Allocation\n",
        "---------------\n",
        "\n",
        "- Email - ugwuozorcollinsemezie@gmail.com\n",
        "- LinkedIn - https://www.linkedin.com/in/collins-ugwuozor-48791a15/\n",
        "- GitHub - https://github.com/ClassicCollins"
      ],
      "metadata": {
        "id": "afnpyZmO7MxU"
      },
      "id": "afnpyZmO7MxU"
    },
    {
      "cell_type": "markdown",
      "id": "9745e519",
      "metadata": {
        "id": "9745e519"
      },
      "source": [
        "\n",
        "I constructed a four-asset portfolio consisting of three value stocks and two growth stocks. The value stocks include two technology companies and one pharmaceutical company, while the growth stocks are both from the tech industry. The portfolio comprises the following assets: \"AMD,\" \"GOOGL,\" \"MSFT,\" \"NVDA,\" and \"PFE.\""
      ]
    },
    {
      "cell_type": "code",
      "execution_count": null,
      "id": "46bfaff2",
      "metadata": {
        "id": "46bfaff2"
      },
      "outputs": [],
      "source": [
        "# Importing the neccessary libraries\n",
        "import pandas as pd\n",
        "import numpy as np\n",
        "import cvxpy as cvx\n",
        "import matplotlib.pyplot as plt\n",
        "import seaborn as sns\n",
        "from pandas_datareader import data\n",
        "import yfinance as yf\n",
        "from datetime import datetime\n",
        "from numpy.linalg import inv"
      ]
    },
    {
      "cell_type": "markdown",
      "id": "bf20e003",
      "metadata": {
        "id": "bf20e003"
      },
      "source": [
        "# Step 1: Computing the Markowitz portfolio optimization"
      ]
    },
    {
      "cell_type": "markdown",
      "id": "b139e803",
      "metadata": {
        "id": "b139e803"
      },
      "source": [
        "## Using brute force Method"
      ]
    },
    {
      "cell_type": "code",
      "execution_count": null,
      "id": "2828195d",
      "metadata": {
        "colab": {
          "base_uri": "https://localhost:8080/",
          "height": 544
        },
        "id": "2828195d",
        "outputId": "d8efed24-66b7-4943-92e0-3a9f63e21848"
      },
      "outputs": [
        {
          "output_type": "stream",
          "name": "stdout",
          "text": [
            "[*********************100%***********************]  1 of 1 completed\n",
            "[*********************100%***********************]  1 of 1 completed\n",
            "[*********************100%***********************]  1 of 1 completed\n",
            "[*********************100%***********************]  1 of 1 completed\n",
            "[*********************100%***********************]  1 of 1 completed\n"
          ]
        },
        {
          "output_type": "execute_result",
          "data": {
            "text/plain": [
              "                   AMD       GOOGL        MSFT        NVDA        PFE\n",
              "Date                                                                 \n",
              "2015-01-02    2.670000   26.477501   40.620659    4.833628  21.552944\n",
              "2015-01-05    2.660000   25.973000   40.247124    4.751988  21.435997\n",
              "2015-01-06    2.630000   25.332001   39.656406    4.607916  21.614861\n",
              "2015-01-07    2.580000   25.257500   40.160259    4.595908  21.910669\n",
              "2015-01-08    2.610000   25.345501   41.341690    4.768796  22.357832\n",
              "...                ...         ...         ...         ...        ...\n",
              "2023-07-28  112.959999  132.580002  338.369995  467.500000  36.070000\n",
              "2023-07-31  114.400002  132.720001  335.920013  467.290009  36.060001\n",
              "2023-08-01  117.599998  131.550003  336.339996  465.070007  35.610001\n",
              "2023-08-02  109.349998  128.380005  327.500000  442.690002  35.349998\n",
              "2023-08-03  113.150002  128.449997  326.660004  445.149994  35.000000\n",
              "\n",
              "[2161 rows x 5 columns]"
            ],
            "text/html": [
              "\n",
              "\n",
              "  <div id=\"df-afdc6135-9ac8-4a23-8b3d-3cf46ff44b0b\">\n",
              "    <div class=\"colab-df-container\">\n",
              "      <div>\n",
              "<style scoped>\n",
              "    .dataframe tbody tr th:only-of-type {\n",
              "        vertical-align: middle;\n",
              "    }\n",
              "\n",
              "    .dataframe tbody tr th {\n",
              "        vertical-align: top;\n",
              "    }\n",
              "\n",
              "    .dataframe thead th {\n",
              "        text-align: right;\n",
              "    }\n",
              "</style>\n",
              "<table border=\"1\" class=\"dataframe\">\n",
              "  <thead>\n",
              "    <tr style=\"text-align: right;\">\n",
              "      <th></th>\n",
              "      <th>AMD</th>\n",
              "      <th>GOOGL</th>\n",
              "      <th>MSFT</th>\n",
              "      <th>NVDA</th>\n",
              "      <th>PFE</th>\n",
              "    </tr>\n",
              "    <tr>\n",
              "      <th>Date</th>\n",
              "      <th></th>\n",
              "      <th></th>\n",
              "      <th></th>\n",
              "      <th></th>\n",
              "      <th></th>\n",
              "    </tr>\n",
              "  </thead>\n",
              "  <tbody>\n",
              "    <tr>\n",
              "      <th>2015-01-02</th>\n",
              "      <td>2.670000</td>\n",
              "      <td>26.477501</td>\n",
              "      <td>40.620659</td>\n",
              "      <td>4.833628</td>\n",
              "      <td>21.552944</td>\n",
              "    </tr>\n",
              "    <tr>\n",
              "      <th>2015-01-05</th>\n",
              "      <td>2.660000</td>\n",
              "      <td>25.973000</td>\n",
              "      <td>40.247124</td>\n",
              "      <td>4.751988</td>\n",
              "      <td>21.435997</td>\n",
              "    </tr>\n",
              "    <tr>\n",
              "      <th>2015-01-06</th>\n",
              "      <td>2.630000</td>\n",
              "      <td>25.332001</td>\n",
              "      <td>39.656406</td>\n",
              "      <td>4.607916</td>\n",
              "      <td>21.614861</td>\n",
              "    </tr>\n",
              "    <tr>\n",
              "      <th>2015-01-07</th>\n",
              "      <td>2.580000</td>\n",
              "      <td>25.257500</td>\n",
              "      <td>40.160259</td>\n",
              "      <td>4.595908</td>\n",
              "      <td>21.910669</td>\n",
              "    </tr>\n",
              "    <tr>\n",
              "      <th>2015-01-08</th>\n",
              "      <td>2.610000</td>\n",
              "      <td>25.345501</td>\n",
              "      <td>41.341690</td>\n",
              "      <td>4.768796</td>\n",
              "      <td>22.357832</td>\n",
              "    </tr>\n",
              "    <tr>\n",
              "      <th>...</th>\n",
              "      <td>...</td>\n",
              "      <td>...</td>\n",
              "      <td>...</td>\n",
              "      <td>...</td>\n",
              "      <td>...</td>\n",
              "    </tr>\n",
              "    <tr>\n",
              "      <th>2023-07-28</th>\n",
              "      <td>112.959999</td>\n",
              "      <td>132.580002</td>\n",
              "      <td>338.369995</td>\n",
              "      <td>467.500000</td>\n",
              "      <td>36.070000</td>\n",
              "    </tr>\n",
              "    <tr>\n",
              "      <th>2023-07-31</th>\n",
              "      <td>114.400002</td>\n",
              "      <td>132.720001</td>\n",
              "      <td>335.920013</td>\n",
              "      <td>467.290009</td>\n",
              "      <td>36.060001</td>\n",
              "    </tr>\n",
              "    <tr>\n",
              "      <th>2023-08-01</th>\n",
              "      <td>117.599998</td>\n",
              "      <td>131.550003</td>\n",
              "      <td>336.339996</td>\n",
              "      <td>465.070007</td>\n",
              "      <td>35.610001</td>\n",
              "    </tr>\n",
              "    <tr>\n",
              "      <th>2023-08-02</th>\n",
              "      <td>109.349998</td>\n",
              "      <td>128.380005</td>\n",
              "      <td>327.500000</td>\n",
              "      <td>442.690002</td>\n",
              "      <td>35.349998</td>\n",
              "    </tr>\n",
              "    <tr>\n",
              "      <th>2023-08-03</th>\n",
              "      <td>113.150002</td>\n",
              "      <td>128.449997</td>\n",
              "      <td>326.660004</td>\n",
              "      <td>445.149994</td>\n",
              "      <td>35.000000</td>\n",
              "    </tr>\n",
              "  </tbody>\n",
              "</table>\n",
              "<p>2161 rows × 5 columns</p>\n",
              "</div>\n",
              "      <button class=\"colab-df-convert\" onclick=\"convertToInteractive('df-afdc6135-9ac8-4a23-8b3d-3cf46ff44b0b')\"\n",
              "              title=\"Convert this dataframe to an interactive table.\"\n",
              "              style=\"display:none;\">\n",
              "\n",
              "  <svg xmlns=\"http://www.w3.org/2000/svg\" height=\"24px\"viewBox=\"0 0 24 24\"\n",
              "       width=\"24px\">\n",
              "    <path d=\"M0 0h24v24H0V0z\" fill=\"none\"/>\n",
              "    <path d=\"M18.56 5.44l.94 2.06.94-2.06 2.06-.94-2.06-.94-.94-2.06-.94 2.06-2.06.94zm-11 1L8.5 8.5l.94-2.06 2.06-.94-2.06-.94L8.5 2.5l-.94 2.06-2.06.94zm10 10l.94 2.06.94-2.06 2.06-.94-2.06-.94-.94-2.06-.94 2.06-2.06.94z\"/><path d=\"M17.41 7.96l-1.37-1.37c-.4-.4-.92-.59-1.43-.59-.52 0-1.04.2-1.43.59L10.3 9.45l-7.72 7.72c-.78.78-.78 2.05 0 2.83L4 21.41c.39.39.9.59 1.41.59.51 0 1.02-.2 1.41-.59l7.78-7.78 2.81-2.81c.8-.78.8-2.07 0-2.86zM5.41 20L4 18.59l7.72-7.72 1.47 1.35L5.41 20z\"/>\n",
              "  </svg>\n",
              "      </button>\n",
              "\n",
              "\n",
              "\n",
              "    <div id=\"df-b5f57530-28cb-4d5c-836e-9fa605cd6cda\">\n",
              "      <button class=\"colab-df-quickchart\" onclick=\"quickchart('df-b5f57530-28cb-4d5c-836e-9fa605cd6cda')\"\n",
              "              title=\"Suggest charts.\"\n",
              "              style=\"display:none;\">\n",
              "\n",
              "<svg xmlns=\"http://www.w3.org/2000/svg\" height=\"24px\"viewBox=\"0 0 24 24\"\n",
              "     width=\"24px\">\n",
              "    <g>\n",
              "        <path d=\"M19 3H5c-1.1 0-2 .9-2 2v14c0 1.1.9 2 2 2h14c1.1 0 2-.9 2-2V5c0-1.1-.9-2-2-2zM9 17H7v-7h2v7zm4 0h-2V7h2v10zm4 0h-2v-4h2v4z\"/>\n",
              "    </g>\n",
              "</svg>\n",
              "      </button>\n",
              "    </div>\n",
              "\n",
              "<style>\n",
              "  .colab-df-quickchart {\n",
              "    background-color: #E8F0FE;\n",
              "    border: none;\n",
              "    border-radius: 50%;\n",
              "    cursor: pointer;\n",
              "    display: none;\n",
              "    fill: #1967D2;\n",
              "    height: 32px;\n",
              "    padding: 0 0 0 0;\n",
              "    width: 32px;\n",
              "  }\n",
              "\n",
              "  .colab-df-quickchart:hover {\n",
              "    background-color: #E2EBFA;\n",
              "    box-shadow: 0px 1px 2px rgba(60, 64, 67, 0.3), 0px 1px 3px 1px rgba(60, 64, 67, 0.15);\n",
              "    fill: #174EA6;\n",
              "  }\n",
              "\n",
              "  [theme=dark] .colab-df-quickchart {\n",
              "    background-color: #3B4455;\n",
              "    fill: #D2E3FC;\n",
              "  }\n",
              "\n",
              "  [theme=dark] .colab-df-quickchart:hover {\n",
              "    background-color: #434B5C;\n",
              "    box-shadow: 0px 1px 3px 1px rgba(0, 0, 0, 0.15);\n",
              "    filter: drop-shadow(0px 1px 2px rgba(0, 0, 0, 0.3));\n",
              "    fill: #FFFFFF;\n",
              "  }\n",
              "</style>\n",
              "\n",
              "    <script>\n",
              "      async function quickchart(key) {\n",
              "        const containerElement = document.querySelector('#' + key);\n",
              "        const charts = await google.colab.kernel.invokeFunction(\n",
              "            'suggestCharts', [key], {});\n",
              "      }\n",
              "    </script>\n",
              "\n",
              "      <script>\n",
              "\n",
              "function displayQuickchartButton(domScope) {\n",
              "  let quickchartButtonEl =\n",
              "    domScope.querySelector('#df-b5f57530-28cb-4d5c-836e-9fa605cd6cda button.colab-df-quickchart');\n",
              "  quickchartButtonEl.style.display =\n",
              "    google.colab.kernel.accessAllowed ? 'block' : 'none';\n",
              "}\n",
              "\n",
              "        displayQuickchartButton(document);\n",
              "      </script>\n",
              "      <style>\n",
              "    .colab-df-container {\n",
              "      display:flex;\n",
              "      flex-wrap:wrap;\n",
              "      gap: 12px;\n",
              "    }\n",
              "\n",
              "    .colab-df-convert {\n",
              "      background-color: #E8F0FE;\n",
              "      border: none;\n",
              "      border-radius: 50%;\n",
              "      cursor: pointer;\n",
              "      display: none;\n",
              "      fill: #1967D2;\n",
              "      height: 32px;\n",
              "      padding: 0 0 0 0;\n",
              "      width: 32px;\n",
              "    }\n",
              "\n",
              "    .colab-df-convert:hover {\n",
              "      background-color: #E2EBFA;\n",
              "      box-shadow: 0px 1px 2px rgba(60, 64, 67, 0.3), 0px 1px 3px 1px rgba(60, 64, 67, 0.15);\n",
              "      fill: #174EA6;\n",
              "    }\n",
              "\n",
              "    [theme=dark] .colab-df-convert {\n",
              "      background-color: #3B4455;\n",
              "      fill: #D2E3FC;\n",
              "    }\n",
              "\n",
              "    [theme=dark] .colab-df-convert:hover {\n",
              "      background-color: #434B5C;\n",
              "      box-shadow: 0px 1px 3px 1px rgba(0, 0, 0, 0.15);\n",
              "      filter: drop-shadow(0px 1px 2px rgba(0, 0, 0, 0.3));\n",
              "      fill: #FFFFFF;\n",
              "    }\n",
              "  </style>\n",
              "\n",
              "      <script>\n",
              "        const buttonEl =\n",
              "          document.querySelector('#df-afdc6135-9ac8-4a23-8b3d-3cf46ff44b0b button.colab-df-convert');\n",
              "        buttonEl.style.display =\n",
              "          google.colab.kernel.accessAllowed ? 'block' : 'none';\n",
              "\n",
              "        async function convertToInteractive(key) {\n",
              "          const element = document.querySelector('#df-afdc6135-9ac8-4a23-8b3d-3cf46ff44b0b');\n",
              "          const dataTable =\n",
              "            await google.colab.kernel.invokeFunction('convertToInteractive',\n",
              "                                                     [key], {});\n",
              "          if (!dataTable) return;\n",
              "\n",
              "          const docLinkHtml = 'Like what you see? Visit the ' +\n",
              "            '<a target=\"_blank\" href=https://colab.research.google.com/notebooks/data_table.ipynb>data table notebook</a>'\n",
              "            + ' to learn more about interactive tables.';\n",
              "          element.innerHTML = '';\n",
              "          dataTable['output_type'] = 'display_data';\n",
              "          await google.colab.output.renderOutput(dataTable, element);\n",
              "          const docLink = document.createElement('div');\n",
              "          docLink.innerHTML = docLinkHtml;\n",
              "          element.appendChild(docLink);\n",
              "        }\n",
              "      </script>\n",
              "    </div>\n",
              "  </div>\n"
            ]
          },
          "metadata": {},
          "execution_count": 2
        }
      ],
      "source": [
        "### define the stocks from which you want the data (via tickers)\n",
        "assets = [\"AMD\",\"GOOGL\", \"MSFT\", \"NVDA\",\"PFE\"]\n",
        "# Define the dates\n",
        "start_date = \"2015-01-01\" #You can choose diff date\n",
        "#end_date = \"2022-01-01\"\n",
        "# Today's date\n",
        "today = datetime.today().strftime('%Y-%m-%d') # You can choose diff date\n",
        "# Create an empty dataframe\n",
        "prices = pd.DataFrame()\n",
        "# Get the  \"Adj Close\" data from Yahoo Finance\n",
        "def YahooData(dataframe_1,assets,start_date,end_date):\n",
        "    for i in assets:\n",
        "        dataframe_1[i] = yf.download(i, start=start_date, end=end_date)['Adj Close']\n",
        "    return dataframe_1\n",
        "df1_prices = YahooData(prices,assets, start_date,today)\n",
        "df1_prices"
      ]
    },
    {
      "cell_type": "code",
      "execution_count": null,
      "id": "600d9463",
      "metadata": {
        "colab": {
          "base_uri": "https://localhost:8080/",
          "height": 454
        },
        "id": "600d9463",
        "outputId": "8cfecc32-195a-484d-fc97-fa5c9a0cb0c8"
      },
      "outputs": [
        {
          "output_type": "execute_result",
          "data": {
            "text/plain": [
              "                 AMD     GOOGL      MSFT      NVDA       PFE\n",
              "Date                                                        \n",
              "2015-01-05 -0.003752 -0.019238 -0.009238 -0.017034 -0.005441\n",
              "2015-01-06 -0.011342 -0.024989 -0.014786 -0.030787  0.008309\n",
              "2015-01-07 -0.019195 -0.002945  0.012625 -0.002609  0.013593\n",
              "2015-01-08  0.011561  0.003478  0.028994  0.036928  0.020203\n",
              "2015-01-09  0.007634 -0.012286 -0.008441  0.004020  0.004605\n",
              "...              ...       ...       ...       ...       ...\n",
              "2023-07-28  0.016603  0.024278  0.022868  0.018349 -0.003598\n",
              "2023-07-31  0.012667  0.001055 -0.007267 -0.000449 -0.000277\n",
              "2023-08-01  0.027588 -0.008855  0.001249 -0.004762 -0.012558\n",
              "2023-08-02 -0.072735 -0.024392 -0.026634 -0.049318 -0.007328\n",
              "2023-08-03  0.034161  0.000545 -0.002568  0.005542 -0.009950\n",
              "\n",
              "[2160 rows x 5 columns]"
            ],
            "text/html": [
              "\n",
              "\n",
              "  <div id=\"df-33a94b51-92f8-4c50-9ab4-6b005c1ebc73\">\n",
              "    <div class=\"colab-df-container\">\n",
              "      <div>\n",
              "<style scoped>\n",
              "    .dataframe tbody tr th:only-of-type {\n",
              "        vertical-align: middle;\n",
              "    }\n",
              "\n",
              "    .dataframe tbody tr th {\n",
              "        vertical-align: top;\n",
              "    }\n",
              "\n",
              "    .dataframe thead th {\n",
              "        text-align: right;\n",
              "    }\n",
              "</style>\n",
              "<table border=\"1\" class=\"dataframe\">\n",
              "  <thead>\n",
              "    <tr style=\"text-align: right;\">\n",
              "      <th></th>\n",
              "      <th>AMD</th>\n",
              "      <th>GOOGL</th>\n",
              "      <th>MSFT</th>\n",
              "      <th>NVDA</th>\n",
              "      <th>PFE</th>\n",
              "    </tr>\n",
              "    <tr>\n",
              "      <th>Date</th>\n",
              "      <th></th>\n",
              "      <th></th>\n",
              "      <th></th>\n",
              "      <th></th>\n",
              "      <th></th>\n",
              "    </tr>\n",
              "  </thead>\n",
              "  <tbody>\n",
              "    <tr>\n",
              "      <th>2015-01-05</th>\n",
              "      <td>-0.003752</td>\n",
              "      <td>-0.019238</td>\n",
              "      <td>-0.009238</td>\n",
              "      <td>-0.017034</td>\n",
              "      <td>-0.005441</td>\n",
              "    </tr>\n",
              "    <tr>\n",
              "      <th>2015-01-06</th>\n",
              "      <td>-0.011342</td>\n",
              "      <td>-0.024989</td>\n",
              "      <td>-0.014786</td>\n",
              "      <td>-0.030787</td>\n",
              "      <td>0.008309</td>\n",
              "    </tr>\n",
              "    <tr>\n",
              "      <th>2015-01-07</th>\n",
              "      <td>-0.019195</td>\n",
              "      <td>-0.002945</td>\n",
              "      <td>0.012625</td>\n",
              "      <td>-0.002609</td>\n",
              "      <td>0.013593</td>\n",
              "    </tr>\n",
              "    <tr>\n",
              "      <th>2015-01-08</th>\n",
              "      <td>0.011561</td>\n",
              "      <td>0.003478</td>\n",
              "      <td>0.028994</td>\n",
              "      <td>0.036928</td>\n",
              "      <td>0.020203</td>\n",
              "    </tr>\n",
              "    <tr>\n",
              "      <th>2015-01-09</th>\n",
              "      <td>0.007634</td>\n",
              "      <td>-0.012286</td>\n",
              "      <td>-0.008441</td>\n",
              "      <td>0.004020</td>\n",
              "      <td>0.004605</td>\n",
              "    </tr>\n",
              "    <tr>\n",
              "      <th>...</th>\n",
              "      <td>...</td>\n",
              "      <td>...</td>\n",
              "      <td>...</td>\n",
              "      <td>...</td>\n",
              "      <td>...</td>\n",
              "    </tr>\n",
              "    <tr>\n",
              "      <th>2023-07-28</th>\n",
              "      <td>0.016603</td>\n",
              "      <td>0.024278</td>\n",
              "      <td>0.022868</td>\n",
              "      <td>0.018349</td>\n",
              "      <td>-0.003598</td>\n",
              "    </tr>\n",
              "    <tr>\n",
              "      <th>2023-07-31</th>\n",
              "      <td>0.012667</td>\n",
              "      <td>0.001055</td>\n",
              "      <td>-0.007267</td>\n",
              "      <td>-0.000449</td>\n",
              "      <td>-0.000277</td>\n",
              "    </tr>\n",
              "    <tr>\n",
              "      <th>2023-08-01</th>\n",
              "      <td>0.027588</td>\n",
              "      <td>-0.008855</td>\n",
              "      <td>0.001249</td>\n",
              "      <td>-0.004762</td>\n",
              "      <td>-0.012558</td>\n",
              "    </tr>\n",
              "    <tr>\n",
              "      <th>2023-08-02</th>\n",
              "      <td>-0.072735</td>\n",
              "      <td>-0.024392</td>\n",
              "      <td>-0.026634</td>\n",
              "      <td>-0.049318</td>\n",
              "      <td>-0.007328</td>\n",
              "    </tr>\n",
              "    <tr>\n",
              "      <th>2023-08-03</th>\n",
              "      <td>0.034161</td>\n",
              "      <td>0.000545</td>\n",
              "      <td>-0.002568</td>\n",
              "      <td>0.005542</td>\n",
              "      <td>-0.009950</td>\n",
              "    </tr>\n",
              "  </tbody>\n",
              "</table>\n",
              "<p>2160 rows × 5 columns</p>\n",
              "</div>\n",
              "      <button class=\"colab-df-convert\" onclick=\"convertToInteractive('df-33a94b51-92f8-4c50-9ab4-6b005c1ebc73')\"\n",
              "              title=\"Convert this dataframe to an interactive table.\"\n",
              "              style=\"display:none;\">\n",
              "\n",
              "  <svg xmlns=\"http://www.w3.org/2000/svg\" height=\"24px\"viewBox=\"0 0 24 24\"\n",
              "       width=\"24px\">\n",
              "    <path d=\"M0 0h24v24H0V0z\" fill=\"none\"/>\n",
              "    <path d=\"M18.56 5.44l.94 2.06.94-2.06 2.06-.94-2.06-.94-.94-2.06-.94 2.06-2.06.94zm-11 1L8.5 8.5l.94-2.06 2.06-.94-2.06-.94L8.5 2.5l-.94 2.06-2.06.94zm10 10l.94 2.06.94-2.06 2.06-.94-2.06-.94-.94-2.06-.94 2.06-2.06.94z\"/><path d=\"M17.41 7.96l-1.37-1.37c-.4-.4-.92-.59-1.43-.59-.52 0-1.04.2-1.43.59L10.3 9.45l-7.72 7.72c-.78.78-.78 2.05 0 2.83L4 21.41c.39.39.9.59 1.41.59.51 0 1.02-.2 1.41-.59l7.78-7.78 2.81-2.81c.8-.78.8-2.07 0-2.86zM5.41 20L4 18.59l7.72-7.72 1.47 1.35L5.41 20z\"/>\n",
              "  </svg>\n",
              "      </button>\n",
              "\n",
              "\n",
              "\n",
              "    <div id=\"df-a28faf36-7653-48b3-a1e5-2a7d7712bc8a\">\n",
              "      <button class=\"colab-df-quickchart\" onclick=\"quickchart('df-a28faf36-7653-48b3-a1e5-2a7d7712bc8a')\"\n",
              "              title=\"Suggest charts.\"\n",
              "              style=\"display:none;\">\n",
              "\n",
              "<svg xmlns=\"http://www.w3.org/2000/svg\" height=\"24px\"viewBox=\"0 0 24 24\"\n",
              "     width=\"24px\">\n",
              "    <g>\n",
              "        <path d=\"M19 3H5c-1.1 0-2 .9-2 2v14c0 1.1.9 2 2 2h14c1.1 0 2-.9 2-2V5c0-1.1-.9-2-2-2zM9 17H7v-7h2v7zm4 0h-2V7h2v10zm4 0h-2v-4h2v4z\"/>\n",
              "    </g>\n",
              "</svg>\n",
              "      </button>\n",
              "    </div>\n",
              "\n",
              "<style>\n",
              "  .colab-df-quickchart {\n",
              "    background-color: #E8F0FE;\n",
              "    border: none;\n",
              "    border-radius: 50%;\n",
              "    cursor: pointer;\n",
              "    display: none;\n",
              "    fill: #1967D2;\n",
              "    height: 32px;\n",
              "    padding: 0 0 0 0;\n",
              "    width: 32px;\n",
              "  }\n",
              "\n",
              "  .colab-df-quickchart:hover {\n",
              "    background-color: #E2EBFA;\n",
              "    box-shadow: 0px 1px 2px rgba(60, 64, 67, 0.3), 0px 1px 3px 1px rgba(60, 64, 67, 0.15);\n",
              "    fill: #174EA6;\n",
              "  }\n",
              "\n",
              "  [theme=dark] .colab-df-quickchart {\n",
              "    background-color: #3B4455;\n",
              "    fill: #D2E3FC;\n",
              "  }\n",
              "\n",
              "  [theme=dark] .colab-df-quickchart:hover {\n",
              "    background-color: #434B5C;\n",
              "    box-shadow: 0px 1px 3px 1px rgba(0, 0, 0, 0.15);\n",
              "    filter: drop-shadow(0px 1px 2px rgba(0, 0, 0, 0.3));\n",
              "    fill: #FFFFFF;\n",
              "  }\n",
              "</style>\n",
              "\n",
              "    <script>\n",
              "      async function quickchart(key) {\n",
              "        const containerElement = document.querySelector('#' + key);\n",
              "        const charts = await google.colab.kernel.invokeFunction(\n",
              "            'suggestCharts', [key], {});\n",
              "      }\n",
              "    </script>\n",
              "\n",
              "      <script>\n",
              "\n",
              "function displayQuickchartButton(domScope) {\n",
              "  let quickchartButtonEl =\n",
              "    domScope.querySelector('#df-a28faf36-7653-48b3-a1e5-2a7d7712bc8a button.colab-df-quickchart');\n",
              "  quickchartButtonEl.style.display =\n",
              "    google.colab.kernel.accessAllowed ? 'block' : 'none';\n",
              "}\n",
              "\n",
              "        displayQuickchartButton(document);\n",
              "      </script>\n",
              "      <style>\n",
              "    .colab-df-container {\n",
              "      display:flex;\n",
              "      flex-wrap:wrap;\n",
              "      gap: 12px;\n",
              "    }\n",
              "\n",
              "    .colab-df-convert {\n",
              "      background-color: #E8F0FE;\n",
              "      border: none;\n",
              "      border-radius: 50%;\n",
              "      cursor: pointer;\n",
              "      display: none;\n",
              "      fill: #1967D2;\n",
              "      height: 32px;\n",
              "      padding: 0 0 0 0;\n",
              "      width: 32px;\n",
              "    }\n",
              "\n",
              "    .colab-df-convert:hover {\n",
              "      background-color: #E2EBFA;\n",
              "      box-shadow: 0px 1px 2px rgba(60, 64, 67, 0.3), 0px 1px 3px 1px rgba(60, 64, 67, 0.15);\n",
              "      fill: #174EA6;\n",
              "    }\n",
              "\n",
              "    [theme=dark] .colab-df-convert {\n",
              "      background-color: #3B4455;\n",
              "      fill: #D2E3FC;\n",
              "    }\n",
              "\n",
              "    [theme=dark] .colab-df-convert:hover {\n",
              "      background-color: #434B5C;\n",
              "      box-shadow: 0px 1px 3px 1px rgba(0, 0, 0, 0.15);\n",
              "      filter: drop-shadow(0px 1px 2px rgba(0, 0, 0, 0.3));\n",
              "      fill: #FFFFFF;\n",
              "    }\n",
              "  </style>\n",
              "\n",
              "      <script>\n",
              "        const buttonEl =\n",
              "          document.querySelector('#df-33a94b51-92f8-4c50-9ab4-6b005c1ebc73 button.colab-df-convert');\n",
              "        buttonEl.style.display =\n",
              "          google.colab.kernel.accessAllowed ? 'block' : 'none';\n",
              "\n",
              "        async function convertToInteractive(key) {\n",
              "          const element = document.querySelector('#df-33a94b51-92f8-4c50-9ab4-6b005c1ebc73');\n",
              "          const dataTable =\n",
              "            await google.colab.kernel.invokeFunction('convertToInteractive',\n",
              "                                                     [key], {});\n",
              "          if (!dataTable) return;\n",
              "\n",
              "          const docLinkHtml = 'Like what you see? Visit the ' +\n",
              "            '<a target=\"_blank\" href=https://colab.research.google.com/notebooks/data_table.ipynb>data table notebook</a>'\n",
              "            + ' to learn more about interactive tables.';\n",
              "          element.innerHTML = '';\n",
              "          dataTable['output_type'] = 'display_data';\n",
              "          await google.colab.output.renderOutput(dataTable, element);\n",
              "          const docLink = document.createElement('div');\n",
              "          docLink.innerHTML = docLinkHtml;\n",
              "          element.appendChild(docLink);\n",
              "        }\n",
              "      </script>\n",
              "    </div>\n",
              "  </div>\n"
            ]
          },
          "metadata": {},
          "execution_count": 3
        }
      ],
      "source": [
        "# We transform the data to its logarithmic returns\n",
        "df1_returns = np.log(df1_prices).diff()\n",
        "# Drop the first row\n",
        "df1_returns = df1_returns.dropna()\n",
        "df1_returns"
      ]
    },
    {
      "cell_type": "code",
      "execution_count": null,
      "id": "4cd89455",
      "metadata": {
        "id": "4cd89455"
      },
      "outputs": [],
      "source": [
        "# Using brute force to iterate we create containers(arrays)\n",
        "iterations = 5000\n",
        "#Creating containers for the arrays\n",
        "return_array = np.zeros(iterations)\n",
        "volatility_array = np.zeros(iterations)\n",
        "sharpe_ratio_array = np.zeros(iterations)\n",
        "#wt_array = np.zeros(iterations, len(df2.columns))\n",
        "weights_array = np.zeros((iterations,len(df1_prices.columns)))"
      ]
    },
    {
      "cell_type": "code",
      "execution_count": null,
      "id": "91fd0c16",
      "metadata": {
        "id": "91fd0c16"
      },
      "outputs": [],
      "source": [
        "for i in range(iterations):\n",
        "    w = np.random.random(len(df1_prices.columns))\n",
        "    w = w/np.sum(w) # the sum of the weights is 1\n",
        "    weights_array[i,:] = w\n",
        "    return_array[i] = np.sum(df1_returns.mean()*252*w)\n",
        "    volatility_array[i] = np.sqrt(np.dot(w.T,np.dot(df1_returns.cov()*252,w)))\n",
        "    sharpe_ratio_array[i] = return_array[i]/volatility_array[i]"
      ]
    },
    {
      "cell_type": "code",
      "execution_count": null,
      "id": "26486370",
      "metadata": {
        "colab": {
          "base_uri": "https://localhost:8080/"
        },
        "id": "26486370",
        "outputId": "ae4a5692-67ec-4ca2-92de-cf03387ffd6f"
      },
      "outputs": [
        {
          "output_type": "execute_result",
          "data": {
            "text/plain": [
              "1.116654428820437"
            ]
          },
          "metadata": {},
          "execution_count": 6
        }
      ],
      "source": [
        "result = sharpe_ratio_array.max()\n",
        "result"
      ]
    },
    {
      "cell_type": "code",
      "execution_count": null,
      "id": "752bf2a9",
      "metadata": {
        "id": "752bf2a9"
      },
      "outputs": [],
      "source": [
        "result_index = np.where(sharpe_ratio_array == result)"
      ]
    },
    {
      "cell_type": "code",
      "execution_count": null,
      "id": "559cc4ff",
      "metadata": {
        "colab": {
          "base_uri": "https://localhost:8080/"
        },
        "id": "559cc4ff",
        "outputId": "dad81236-7c8d-46dc-d30a-0c441ab330e0"
      },
      "outputs": [
        {
          "output_type": "execute_result",
          "data": {
            "text/plain": [
              "(array([765]),)"
            ]
          },
          "metadata": {},
          "execution_count": 8
        }
      ],
      "source": [
        "result_index"
      ]
    },
    {
      "cell_type": "code",
      "execution_count": null,
      "id": "adfe89c4",
      "metadata": {
        "scrolled": true,
        "colab": {
          "base_uri": "https://localhost:8080/"
        },
        "id": "adfe89c4",
        "outputId": "d0a39125-6b0d-4369-b36d-3a4e608092dc"
      },
      "outputs": [
        {
          "output_type": "stream",
          "name": "stdout",
          "text": [
            "------------AMD ------GOOGL ------MSFT --------NVDA --------PFE-----\n"
          ]
        },
        {
          "output_type": "execute_result",
          "data": {
            "text/plain": [
              "array([[0.06983964, 0.01271037, 0.2935167 , 0.58124971, 0.04268358]])"
            ]
          },
          "metadata": {},
          "execution_count": 9
        }
      ],
      "source": [
        "optimal_weights = weights_array[result_index[0],:]\n",
        "print (  \"------------AMD\", \"------GOOGL\",   \"------MSFT\",   \"--------NVDA\",  \"--------PFE-----\" )\n",
        "optimal_weights"
      ]
    },
    {
      "cell_type": "code",
      "execution_count": null,
      "id": "1cc82288",
      "metadata": {
        "colab": {
          "base_uri": "https://localhost:8080/"
        },
        "id": "1cc82288",
        "outputId": "b18633d0-12ca-45a6-fd1c-18b731883648"
      },
      "outputs": [
        {
          "output_type": "execute_result",
          "data": {
            "text/plain": [
              "array([0.37018838])"
            ]
          },
          "metadata": {},
          "execution_count": 10
        }
      ],
      "source": [
        "annual_volatility = volatility_array[result_index[0]]\n",
        "annual_volatility"
      ]
    },
    {
      "cell_type": "code",
      "execution_count": null,
      "id": "fcd171e3",
      "metadata": {
        "scrolled": true,
        "colab": {
          "base_uri": "https://localhost:8080/"
        },
        "id": "fcd171e3",
        "outputId": "61b0337e-9c46-4609-c68f-ae84e6e43617"
      },
      "outputs": [
        {
          "output_type": "execute_result",
          "data": {
            "text/plain": [
              "array([0.4133725])"
            ]
          },
          "metadata": {},
          "execution_count": 11
        }
      ],
      "source": [
        "expected_annual_return = return_array[result_index[0]]\n",
        "expected_annual_return"
      ]
    },
    {
      "cell_type": "code",
      "execution_count": null,
      "id": "da64ac07",
      "metadata": {
        "scrolled": true,
        "colab": {
          "base_uri": "https://localhost:8080/",
          "height": 333
        },
        "id": "da64ac07",
        "outputId": "14c763dd-a07d-436c-877b-6887533fcd87"
      },
      "outputs": [
        {
          "output_type": "display_data",
          "data": {
            "text/plain": [
              "<Figure size 1000x300 with 2 Axes>"
            ],
            "image/png": "[encoded data removed]"
          },
          "metadata": {}
        }
      ],
      "source": [
        "plt.figure(figsize=(10,3))\n",
        "plt.scatter(volatility_array,return_array,c=sharpe_ratio_array,cmap='plasma')\n",
        "plt.colorbar(label='Sharpe ratio')\n",
        "plt.xlabel('Volatility')\n",
        "plt.ylabel('Expected Returns')\n",
        "plt.title(\"The maximum sharpe can be observed as \"+str(result))\n",
        "plt.show()"
      ]
    },
    {
      "cell_type": "code",
      "execution_count": null,
      "id": "699a8dbc",
      "metadata": {
        "scrolled": true,
        "colab": {
          "base_uri": "https://localhost:8080/",
          "height": 237
        },
        "id": "699a8dbc",
        "outputId": "08f45fd7-b720-4f32-ba0e-b6ec5bfd2c4c"
      },
      "outputs": [
        {
          "output_type": "execute_result",
          "data": {
            "text/plain": [
              "<pandas.io.formats.style.Styler at 0x7afdb3f55ab0>"
            ],
            "text/html": [
              "<style type=\"text/css\">\n",
              "</style>\n",
              "<table id=\"T_d5aa2\" class=\"dataframe\">\n",
              "  <thead>\n",
              "    <tr>\n",
              "      <th class=\"blank level0\" >&nbsp;</th>\n",
              "      <th id=\"T_d5aa2_level0_col0\" class=\"col_heading level0 col0\" >MW Weights</th>\n",
              "      <th id=\"T_d5aa2_level0_col1\" class=\"col_heading level0 col1\" >MW Returns</th>\n",
              "    </tr>\n",
              "    <tr>\n",
              "      <th class=\"index_name level0\" >Asset</th>\n",
              "      <th class=\"blank col0\" >&nbsp;</th>\n",
              "      <th class=\"blank col1\" >&nbsp;</th>\n",
              "    </tr>\n",
              "  </thead>\n",
              "  <tbody>\n",
              "    <tr>\n",
              "      <th id=\"T_d5aa2_level0_row0\" class=\"row_heading level0 row0\" >AMD</th>\n",
              "      <td id=\"T_d5aa2_row0_col0\" class=\"data row0 col0\" >6.98%</td>\n",
              "      <td id=\"T_d5aa2_row0_col1\" class=\"data row0 col1\" >0.44%</td>\n",
              "    </tr>\n",
              "    <tr>\n",
              "      <th id=\"T_d5aa2_level0_row1\" class=\"row_heading level0 row1\" >GOOGL</th>\n",
              "      <td id=\"T_d5aa2_row1_col0\" class=\"data row1 col0\" >1.27%</td>\n",
              "      <td id=\"T_d5aa2_row1_col1\" class=\"data row1 col1\" >0.18%</td>\n",
              "    </tr>\n",
              "    <tr>\n",
              "      <th id=\"T_d5aa2_level0_row2\" class=\"row_heading level0 row2\" >MSFT</th>\n",
              "      <td id=\"T_d5aa2_row2_col0\" class=\"data row2 col0\" >29.35%</td>\n",
              "      <td id=\"T_d5aa2_row2_col1\" class=\"data row2 col1\" >0.24%</td>\n",
              "    </tr>\n",
              "    <tr>\n",
              "      <th id=\"T_d5aa2_level0_row3\" class=\"row_heading level0 row3\" >NVDA</th>\n",
              "      <td id=\"T_d5aa2_row3_col0\" class=\"data row3 col0\" >58.12%</td>\n",
              "      <td id=\"T_d5aa2_row3_col1\" class=\"data row3 col1\" >0.53%</td>\n",
              "    </tr>\n",
              "    <tr>\n",
              "      <th id=\"T_d5aa2_level0_row4\" class=\"row_heading level0 row4\" >PFE</th>\n",
              "      <td id=\"T_d5aa2_row4_col0\" class=\"data row4 col0\" >4.27%</td>\n",
              "      <td id=\"T_d5aa2_row4_col1\" class=\"data row4 col1\" >0.06%</td>\n",
              "    </tr>\n",
              "  </tbody>\n",
              "</table>\n"
            ]
          },
          "metadata": {},
          "execution_count": 13
        }
      ],
      "source": [
        "optimal_weight1 = pd.DataFrame(optimal_weights)\n",
        "optimal_weight1 = optimal_weight1.T\n",
        "return1 = df1_returns*252\n",
        "return1 = return1.mean().reset_index()\n",
        "return_table1 = pd.concat([optimal_weight1,return1], axis=1)\n",
        "return_table1.columns = ['MW Weights', 'Asset', 'MW Returns']\n",
        "return_table1 = return_table1.set_index('Asset')\n",
        "return_table1['MW Weights'] = return_table1['MW Weights']*100\n",
        "return_table1 = return_table1\n",
        "return_table1.style.format('{:,.2f}%')"
      ]
    },
    {
      "cell_type": "code",
      "execution_count": null,
      "id": "10a39404",
      "metadata": {
        "colab": {
          "base_uri": "https://localhost:8080/"
        },
        "id": "10a39404",
        "outputId": "4cb822f1-1994-4b2b-8fa4-8ceae62b82e3"
      },
      "outputs": [
        {
          "output_type": "stream",
          "name": "stdout",
          "text": [
            "Expected return optimal porfolio:  41.34%\n",
            "Expected std. deviation optimal porfolio:  37.02%\n"
          ]
        }
      ],
      "source": [
        "print(\"Expected return optimal porfolio: \", f\"{expected_annual_return[0]:.2%}\")\n",
        "print(\"Expected std. deviation optimal porfolio: \", f\"{annual_volatility[0]:.2%}\")"
      ]
    },
    {
      "cell_type": "code",
      "execution_count": null,
      "id": "a58ab315",
      "metadata": {
        "colab": {
          "base_uri": "https://localhost:8080/",
          "height": 472
        },
        "id": "a58ab315",
        "outputId": "54d3e106-9942-4c69-d166-429c3ea77fbb"
      },
      "outputs": [
        {
          "output_type": "display_data",
          "data": {
            "text/plain": [
              "<Figure size 640x480 with 1 Axes>"
            ],
            "image/png": "[encoded data removed]"
          },
          "metadata": {}
        }
      ],
      "source": [
        "plt.bar(assets, return_table1['MW Weights'])\n",
        "plt.xlabel('Assets')\n",
        "plt.ylabel('%Weights')\n",
        "plt.title('Markorwiz Optimal Portfolio Weights')\n",
        "plt.show()"
      ]
    }
  ],
  "metadata": {
    "kernelspec": {
      "display_name": "Python 3 (ipykernel)",
      "language": "python",
      "name": "python3"
    },
    "language_info": {
      "codemirror_mode": {
        "name": "ipython",
        "version": 3
      },
      "file_extension": ".py",
      "mimetype": "text/x-python",
      "name": "python",
      "nbconvert_exporter": "python",
      "pygments_lexer": "ipython3",
      "version": "3.9.16"
    },
    "colab": {
      "provenance": []
    }
  },
  "nbformat": 4,
  "nbformat_minor": 5
}